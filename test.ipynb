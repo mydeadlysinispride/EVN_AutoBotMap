{
 "cells": [
  {
   "cell_type": "code",
   "execution_count": 2,
   "metadata": {},
   "outputs": [],
   "source": [
    "import pandas as pd\n",
    "\n",
    "df = pd.read_excel('location.xlsx')\n"
   ]
  },
  {
   "cell_type": "code",
   "execution_count": 3,
   "metadata": {},
   "outputs": [
    {
     "data": {
      "text/html": [
       "<div>\n",
       "<style scoped>\n",
       "    .dataframe tbody tr th:only-of-type {\n",
       "        vertical-align: middle;\n",
       "    }\n",
       "\n",
       "    .dataframe tbody tr th {\n",
       "        vertical-align: top;\n",
       "    }\n",
       "\n",
       "    .dataframe thead th {\n",
       "        text-align: right;\n",
       "    }\n",
       "</style>\n",
       "<table border=\"1\" class=\"dataframe\">\n",
       "  <thead>\n",
       "    <tr style=\"text-align: right;\">\n",
       "      <th></th>\n",
       "      <th>Folder name</th>\n",
       "      <th>Filename</th>\n",
       "      <th>Direct Link</th>\n",
       "      <th>Coordinate</th>\n",
       "    </tr>\n",
       "  </thead>\n",
       "  <tbody>\n",
       "    <tr>\n",
       "      <th>0</th>\n",
       "      <td>01 NR Ngai Thau Thuong</td>\n",
       "      <td>1</td>\n",
       "      <td>https://drive.google.com/uc?id=13qOAN0aZ5_9di0...</td>\n",
       "      <td>22.6828N 103.5939E</td>\n",
       "    </tr>\n",
       "    <tr>\n",
       "      <th>1</th>\n",
       "      <td>06 NR Ngai Thau Thuong</td>\n",
       "      <td>2</td>\n",
       "      <td>https://drive.google.com/uc?id=1x4M9YYqab8KVhC...</td>\n",
       "      <td>22.6827N 103.6001E</td>\n",
       "    </tr>\n",
       "    <tr>\n",
       "      <th>2</th>\n",
       "      <td>06 NR Ngai Thau Thuong</td>\n",
       "      <td>3</td>\n",
       "      <td>https://drive.google.com/uc?id=1AKKik5fgd95g5L...</td>\n",
       "      <td>22.6827N 103.6000E</td>\n",
       "    </tr>\n",
       "    <tr>\n",
       "      <th>3</th>\n",
       "      <td>09 NR Ngai Thau Thuong</td>\n",
       "      <td>4</td>\n",
       "      <td>https://drive.google.com/uc?id=1T7CrA3Ho7Y_3xP...</td>\n",
       "      <td>22.6829N 103.6105E</td>\n",
       "    </tr>\n",
       "    <tr>\n",
       "      <th>4</th>\n",
       "      <td>09 NR Ngai Thau Thuong</td>\n",
       "      <td>5</td>\n",
       "      <td>https://drive.google.com/uc?id=1ZnAeAhsA7awYWd...</td>\n",
       "      <td>22.6829N 103.6107E</td>\n",
       "    </tr>\n",
       "  </tbody>\n",
       "</table>\n",
       "</div>"
      ],
      "text/plain": [
       "              Folder name  Filename  \\\n",
       "0  01 NR Ngai Thau Thuong         1   \n",
       "1  06 NR Ngai Thau Thuong         2   \n",
       "2  06 NR Ngai Thau Thuong         3   \n",
       "3  09 NR Ngai Thau Thuong         4   \n",
       "4  09 NR Ngai Thau Thuong         5   \n",
       "\n",
       "                                         Direct Link          Coordinate  \n",
       "0  https://drive.google.com/uc?id=13qOAN0aZ5_9di0...  22.6828N 103.5939E  \n",
       "1  https://drive.google.com/uc?id=1x4M9YYqab8KVhC...  22.6827N 103.6001E  \n",
       "2  https://drive.google.com/uc?id=1AKKik5fgd95g5L...  22.6827N 103.6000E  \n",
       "3  https://drive.google.com/uc?id=1T7CrA3Ho7Y_3xP...  22.6829N 103.6105E  \n",
       "4  https://drive.google.com/uc?id=1ZnAeAhsA7awYWd...  22.6829N 103.6107E  "
      ]
     },
     "execution_count": 3,
     "metadata": {},
     "output_type": "execute_result"
    }
   ],
   "source": [
    "df.head()"
   ]
  },
  {
   "cell_type": "code",
   "execution_count": 4,
   "metadata": {},
   "outputs": [],
   "source": [
    "df_grouped = df.groupby('Folder name').agg({'Coordinate': 'first', 'Direct Link': list}).reset_index()\n"
   ]
  },
  {
   "cell_type": "code",
   "execution_count": 5,
   "metadata": {},
   "outputs": [
    {
     "data": {
      "text/html": [
       "<div>\n",
       "<style scoped>\n",
       "    .dataframe tbody tr th:only-of-type {\n",
       "        vertical-align: middle;\n",
       "    }\n",
       "\n",
       "    .dataframe tbody tr th {\n",
       "        vertical-align: top;\n",
       "    }\n",
       "\n",
       "    .dataframe thead th {\n",
       "        text-align: right;\n",
       "    }\n",
       "</style>\n",
       "<table border=\"1\" class=\"dataframe\">\n",
       "  <thead>\n",
       "    <tr style=\"text-align: right;\">\n",
       "      <th></th>\n",
       "      <th>Folder name</th>\n",
       "      <th>Coordinate</th>\n",
       "      <th>Direct Link</th>\n",
       "    </tr>\n",
       "  </thead>\n",
       "  <tbody>\n",
       "    <tr>\n",
       "      <th>0</th>\n",
       "      <td>01 NR Ngai Thau Thuong</td>\n",
       "      <td>22.6828N 103.5939E</td>\n",
       "      <td>[https://drive.google.com/uc?id=13qOAN0aZ5_9di...</td>\n",
       "    </tr>\n",
       "    <tr>\n",
       "      <th>1</th>\n",
       "      <td>06 NR Ngai Thau Thuong</td>\n",
       "      <td>22.6827N 103.6001E</td>\n",
       "      <td>[https://drive.google.com/uc?id=1x4M9YYqab8KVh...</td>\n",
       "    </tr>\n",
       "    <tr>\n",
       "      <th>2</th>\n",
       "      <td>09 NR Ngai Thau Thuong</td>\n",
       "      <td>22.6829N 103.6105E</td>\n",
       "      <td>[https://drive.google.com/uc?id=1T7CrA3Ho7Y_3x...</td>\n",
       "    </tr>\n",
       "    <tr>\n",
       "      <th>3</th>\n",
       "      <td>10 NR Ngai Thau Thuong</td>\n",
       "      <td>22.6830N 103.6113E</td>\n",
       "      <td>[https://drive.google.com/uc?id=1L1B1nikpENJlO...</td>\n",
       "    </tr>\n",
       "    <tr>\n",
       "      <th>4</th>\n",
       "      <td>17 NR Ngai Thau</td>\n",
       "      <td>22.6828N 103.5936E</td>\n",
       "      <td>[https://drive.google.com/uc?id=1W4S4ceNJ39aOZ...</td>\n",
       "    </tr>\n",
       "    <tr>\n",
       "      <th>5</th>\n",
       "      <td>18 NR Ngai Thau</td>\n",
       "      <td>22.6825N 103.5927E</td>\n",
       "      <td>[https://drive.google.com/uc?id=14mxVGVOflgUco...</td>\n",
       "    </tr>\n",
       "  </tbody>\n",
       "</table>\n",
       "</div>"
      ],
      "text/plain": [
       "              Folder name          Coordinate  \\\n",
       "0  01 NR Ngai Thau Thuong  22.6828N 103.5939E   \n",
       "1  06 NR Ngai Thau Thuong  22.6827N 103.6001E   \n",
       "2  09 NR Ngai Thau Thuong  22.6829N 103.6105E   \n",
       "3  10 NR Ngai Thau Thuong  22.6830N 103.6113E   \n",
       "4         17 NR Ngai Thau  22.6828N 103.5936E   \n",
       "5         18 NR Ngai Thau  22.6825N 103.5927E   \n",
       "\n",
       "                                         Direct Link  \n",
       "0  [https://drive.google.com/uc?id=13qOAN0aZ5_9di...  \n",
       "1  [https://drive.google.com/uc?id=1x4M9YYqab8KVh...  \n",
       "2  [https://drive.google.com/uc?id=1T7CrA3Ho7Y_3x...  \n",
       "3  [https://drive.google.com/uc?id=1L1B1nikpENJlO...  \n",
       "4  [https://drive.google.com/uc?id=1W4S4ceNJ39aOZ...  \n",
       "5  [https://drive.google.com/uc?id=14mxVGVOflgUco...  "
      ]
     },
     "execution_count": 5,
     "metadata": {},
     "output_type": "execute_result"
    }
   ],
   "source": [
    "df_grouped"
   ]
  },
  {
   "cell_type": "code",
   "execution_count": 19,
   "metadata": {},
   "outputs": [],
   "source": [
    "df_grouped.to_csv('group_location.csv', index=False)"
   ]
  },
  {
   "cell_type": "code",
   "execution_count": 9,
   "metadata": {},
   "outputs": [
    {
     "name": "stdout",
     "output_type": "stream",
     "text": [
      "1\n"
     ]
    }
   ],
   "source": [
    "folder_name = '01 NR Ngai Thau Thuong'\n",
    "num_direct_links = len(df_grouped[df_grouped['Folder name'] == folder_name]['Direct Link'].iloc[0])\n",
    "print(num_direct_links)\n"
   ]
  },
  {
   "cell_type": "code",
   "execution_count": 11,
   "metadata": {},
   "outputs": [
    {
     "name": "stdout",
     "output_type": "stream",
     "text": [
      "https://drive.google.com/uc?id=13qOAN0aZ5_9di0kSabtI-rGEDQau8b7h&export=download\n"
     ]
    }
   ],
   "source": [
    "direct_link = df_grouped[df_grouped['Folder name'] == folder_name]['Direct Link'].iloc[0]\n",
    "print(direct_link[0])"
   ]
  },
  {
   "cell_type": "code",
   "execution_count": null,
   "metadata": {},
   "outputs": [],
   "source": []
  }
 ],
 "metadata": {
  "kernelspec": {
   "display_name": "env",
   "language": "python",
   "name": "python3"
  },
  "language_info": {
   "codemirror_mode": {
    "name": "ipython",
    "version": 3
   },
   "file_extension": ".py",
   "mimetype": "text/x-python",
   "name": "python",
   "nbconvert_exporter": "python",
   "pygments_lexer": "ipython3",
   "version": "3.11.5"
  }
 },
 "nbformat": 4,
 "nbformat_minor": 2
}
